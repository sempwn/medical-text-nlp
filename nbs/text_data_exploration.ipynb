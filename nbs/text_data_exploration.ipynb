{
 "cells": [
  {
   "cell_type": "markdown",
   "metadata": {},
   "source": [
    "# Exploration of Kaggle medical speech and ailment classification\n",
    "\n",
    "Useful resources:\n",
    "* See [here](https://www.kaggle.com/paultimothymooney/medical-speech-transcription-and-intent) for details on data and Kaggle competition.\n",
    "\n",
    "* See [here](https://www.kaggle.com/paultimothymooney/medical-speech-transcription-and-intent/kernels) for inspired kernel.\n",
    "\n",
    "* [A comprehensive guide to text classification](https://www.analyticsvidhya.com/blog/2018/04/a-comprehensive-guide-to-understand-and-implement-text-classification-in-python/)\n",
    "\n"
   ]
  },
  {
   "cell_type": "code",
   "execution_count": 18,
   "metadata": {},
   "outputs": [
    {
     "name": "stdout",
     "output_type": "stream",
     "text": [
      "Populating the interactive namespace from numpy and matplotlib\n"
     ]
    }
   ],
   "source": [
    "# load basic jupyter notebook libraries and namespace\n",
    "% pylab inline \n",
    "import pandas as pd # data manipulation\n",
    "import nltk\n",
    "pd.set_option('display.max_colwidth', -1)"
   ]
  },
  {
   "cell_type": "code",
   "execution_count": 24,
   "metadata": {},
   "outputs": [
    {
     "name": "stdout",
     "output_type": "stream",
     "text": [
      "[nltk_data] Downloading package averaged_perceptron_tagger to\n",
      "[nltk_data]     /Users/m.irvine/nltk_data...\n",
      "[nltk_data]   Unzipping taggers/averaged_perceptron_tagger.zip.\n"
     ]
    },
    {
     "data": {
      "text/plain": [
       "True"
      ]
     },
     "execution_count": 24,
     "metadata": {},
     "output_type": "execute_result"
    }
   ],
   "source": [
    "nltk.download('averaged_perceptron_tagger')"
   ]
  },
  {
   "cell_type": "code",
   "execution_count": 9,
   "metadata": {},
   "outputs": [],
   "source": [
    "# load data\n",
    "\n",
    "df = pd.read_csv('../data/overview-of-recordings.csv')"
   ]
  },
  {
   "cell_type": "code",
   "execution_count": 17,
   "metadata": {},
   "outputs": [
    {
     "data": {
      "text/html": [
       "<div>\n",
       "<style scoped>\n",
       "    .dataframe tbody tr th:only-of-type {\n",
       "        vertical-align: middle;\n",
       "    }\n",
       "\n",
       "    .dataframe tbody tr th {\n",
       "        vertical-align: top;\n",
       "    }\n",
       "\n",
       "    .dataframe thead th {\n",
       "        text-align: right;\n",
       "    }\n",
       "</style>\n",
       "<table border=\"1\" class=\"dataframe\">\n",
       "  <thead>\n",
       "    <tr style=\"text-align: right;\">\n",
       "      <th></th>\n",
       "      <th>phrase</th>\n",
       "      <th>prompt</th>\n",
       "    </tr>\n",
       "  </thead>\n",
       "  <tbody>\n",
       "    <tr>\n",
       "      <th>5574</th>\n",
       "      <td>i have injured myself during the soccer match</td>\n",
       "      <td>Injury from sports</td>\n",
       "    </tr>\n",
       "    <tr>\n",
       "      <th>554</th>\n",
       "      <td>My television and computer seem out of focus even though I have new glasses.</td>\n",
       "      <td>Blurry vision</td>\n",
       "    </tr>\n",
       "    <tr>\n",
       "      <th>2484</th>\n",
       "      <td>heart aches so much</td>\n",
       "      <td>Heart hurts</td>\n",
       "    </tr>\n",
       "    <tr>\n",
       "      <th>1476</th>\n",
       "      <td>Sometimes when it is cold outside, my face hurts, especially around the pimples that are ready to pop.</td>\n",
       "      <td>Acne</td>\n",
       "    </tr>\n",
       "    <tr>\n",
       "      <th>3755</th>\n",
       "      <td>Even though I'm an adult my face keeps breaking out in pimples.</td>\n",
       "      <td>Acne</td>\n",
       "    </tr>\n",
       "    <tr>\n",
       "      <th>661</th>\n",
       "      <td>I have a rash on my skin</td>\n",
       "      <td>Skin issue</td>\n",
       "    </tr>\n",
       "    <tr>\n",
       "      <th>5274</th>\n",
       "      <td>When I stand up too quickly I start to feel dizzy and light-headed</td>\n",
       "      <td>Feeling dizzy</td>\n",
       "    </tr>\n",
       "    <tr>\n",
       "      <th>6215</th>\n",
       "      <td>I have a pain in my joint</td>\n",
       "      <td>Joint pain</td>\n",
       "    </tr>\n",
       "    <tr>\n",
       "      <th>5708</th>\n",
       "      <td>It feels like someone is hitting my head with a hammer.  I feel pain on the top of my head and it throbs.</td>\n",
       "      <td>Head ache</td>\n",
       "    </tr>\n",
       "    <tr>\n",
       "      <th>433</th>\n",
       "      <td>The nerves were so damaged during the operation on my ankle that I cannot stand being touched on the scar.</td>\n",
       "      <td>Foot ache</td>\n",
       "    </tr>\n",
       "  </tbody>\n",
       "</table>\n",
       "</div>"
      ],
      "text/plain": [
       "                                                                                                          phrase  \\\n",
       "5574  i have injured myself during the soccer match                                                                \n",
       "554   My television and computer seem out of focus even though I have new glasses.                                 \n",
       "2484  heart aches so much                                                                                          \n",
       "1476  Sometimes when it is cold outside, my face hurts, especially around the pimples that are ready to pop.       \n",
       "3755  Even though I'm an adult my face keeps breaking out in pimples.                                              \n",
       "661   I have a rash on my skin                                                                                     \n",
       "5274  When I stand up too quickly I start to feel dizzy and light-headed                                           \n",
       "6215  I have a pain in my joint                                                                                    \n",
       "5708  It feels like someone is hitting my head with a hammer.  I feel pain on the top of my head and it throbs.    \n",
       "433   The nerves were so damaged during the operation on my ankle that I cannot stand being touched on the scar.   \n",
       "\n",
       "                  prompt  \n",
       "5574  Injury from sports  \n",
       "554   Blurry vision       \n",
       "2484  Heart hurts         \n",
       "1476  Acne                \n",
       "3755  Acne                \n",
       "661   Skin issue          \n",
       "5274  Feeling dizzy       \n",
       "6215  Joint pain          \n",
       "5708  Head ache           \n",
       "433   Foot ache           "
      ]
     },
     "execution_count": 17,
     "metadata": {},
     "output_type": "execute_result"
    }
   ],
   "source": [
    "df[['phrase','prompt']].iloc[np.random.randint(0, len(df), 10)]"
   ]
  },
  {
   "cell_type": "code",
   "execution_count": 28,
   "metadata": {},
   "outputs": [],
   "source": [
    "sentence = df.loc[np.random.randint(0,len(df)),'phrase']\n",
    "tokens = nltk.word_tokenize(sentence)\n",
    "tagged = nltk.pos_tag(tokens)"
   ]
  },
  {
   "cell_type": "code",
   "execution_count": 29,
   "metadata": {},
   "outputs": [
    {
     "name": "stdout",
     "output_type": "stream",
     "text": [
      "Yesterday I had a shouder pain\n"
     ]
    }
   ],
   "source": [
    "print(sentence)"
   ]
  },
  {
   "cell_type": "code",
   "execution_count": 30,
   "metadata": {},
   "outputs": [
    {
     "name": "stdout",
     "output_type": "stream",
     "text": [
      "[('Yesterday', 'NN'), ('I', 'PRP'), ('had', 'VBD'), ('a', 'DT'), ('shouder', 'NN'), ('pain', 'NN')]\n"
     ]
    }
   ],
   "source": [
    "print(tagged)"
   ]
  },
  {
   "cell_type": "code",
   "execution_count": null,
   "metadata": {},
   "outputs": [],
   "source": []
  }
 ],
 "metadata": {
  "anaconda-cloud": {},
  "kernelspec": {
   "display_name": "Python [conda env:py36]",
   "language": "python",
   "name": "conda-env-py36-py"
  },
  "language_info": {
   "codemirror_mode": {
    "name": "ipython",
    "version": 3
   },
   "file_extension": ".py",
   "mimetype": "text/x-python",
   "name": "python",
   "nbconvert_exporter": "python",
   "pygments_lexer": "ipython3",
   "version": "3.6.8"
  }
 },
 "nbformat": 4,
 "nbformat_minor": 2
}
